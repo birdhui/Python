{
 "cells": [
  {
   "cell_type": "code",
   "execution_count": 4,
   "metadata": {},
   "outputs": [
    {
     "name": "stdout",
     "output_type": "stream",
     "text": [
      "더하기: 30\n",
      "빼기: -10\n",
      "곱하기: 200\n",
      "나누기: 0.5\n"
     ]
    }
   ],
   "source": [
    "print(\"더하기:\",10+20)\n",
    "print(\"빼기:\",10-20)\n",
    "print(\"곱하기:\",10*20)\n",
    "print(\"나누기:\",10/20)"
   ]
  },
  {
   "cell_type": "code",
   "execution_count": 5,
   "metadata": {},
   "outputs": [
    {
     "name": "stdout",
     "output_type": "stream",
     "text": [
      "c**2: 100\n",
      "c**3: 1000\n",
      "c**4: 10000\n"
     ]
    }
   ],
   "source": [
    "# ** : 거듭제곱 연산\n",
    "print(\"c**2:\",10**2)\n",
    "print(\"c**3:\",10**3)\n",
    "print(\"c**4:\",10**4)"
   ]
  },
  {
   "cell_type": "code",
   "execution_count": 6,
   "metadata": {},
   "outputs": [
    {
     "name": "stdout",
     "output_type": "stream",
     "text": [
      "몫: 6\n",
      "나머지: 4\n"
     ]
    }
   ],
   "source": [
    "print(\"몫:\",40//6)\n",
    "print(\"나머지:\",40%6)"
   ]
  },
  {
   "cell_type": "code",
   "execution_count": 7,
   "metadata": {},
   "outputs": [
    {
     "name": "stdout",
     "output_type": "stream",
     "text": [
      "0\n",
      "1\n",
      "1\n",
      "1\n",
      "False\n",
      "True\n",
      "True\n",
      "True\n"
     ]
    }
   ],
   "source": [
    "#  논리연산\n",
    "#  : or, and, not\n",
    "#  or : True가 하나라도 있으면 참\n",
    "\n",
    "print(0 or 0)\n",
    "print(0 or 1)\n",
    "print(1 or 0)\n",
    "print(1 or 1)\n",
    "print(False or False)\n",
    "print(False or True)\n",
    "print(True or False)\n",
    "print(True or True)"
   ]
  },
  {
   "cell_type": "code",
   "execution_count": 8,
   "metadata": {},
   "outputs": [
    {
     "name": "stdout",
     "output_type": "stream",
     "text": [
      "0\n",
      "0\n",
      "0\n",
      "1\n",
      "False\n",
      "False\n",
      "False\n",
      "True\n"
     ]
    }
   ],
   "source": [
    "# and 연산 : 모든 값이 1 이상이거나, True일 때만 참인 연산\n",
    "\n",
    "print(0 and 0)\n",
    "print(0 and 1)\n",
    "print(1 and 0)\n",
    "print(1 and 1)\n",
    "print(False and False)\n",
    "print(False and False)\n",
    "print(True and False)\n",
    "print(True and True)"
   ]
  },
  {
   "cell_type": "code",
   "execution_count": 9,
   "metadata": {},
   "outputs": [
    {
     "name": "stdout",
     "output_type": "stream",
     "text": [
      "True\n",
      "False\n",
      "True\n",
      "False\n"
     ]
    }
   ],
   "source": [
    "# not 연산 : 자신의 상태를 반전시킨다.\n",
    "\n",
    "print(not 0)\n",
    "print(not 1)\n",
    "# => 숫자형태인 0, 1도 bool타입으로 변경됨\n",
    "print(not False)\n",
    "print(not True)"
   ]
  },
  {
   "cell_type": "code",
   "execution_count": 12,
   "metadata": {},
   "outputs": [
    {
     "name": "stdout",
     "output_type": "stream",
     "text": [
      "True\n",
      "True\n",
      "True\n",
      "False\n",
      "True\n",
      "False\n"
     ]
    }
   ],
   "source": [
    "# 비교연산\n",
    "\n",
    "print(10 == 10)\n",
    "print(10 >= 10)\n",
    "print(10 <= 10)\n",
    "print(10 < 5)\n",
    "print(10 > 5)\n",
    "print(10 != 10)"
   ]
  },
  {
   "cell_type": "code",
   "execution_count": 13,
   "metadata": {},
   "outputs": [
    {
     "name": "stdout",
     "output_type": "stream",
     "text": [
      "True\n",
      "False\n",
      "True\n",
      "True\n"
     ]
    }
   ],
   "source": [
    "# in : 리스트나 문자열에서 포함된 값을 비교\n",
    "#   => 리스트에서 값이 포함되어있는지 확인하는 코드\n",
    "\n",
    "a_list = ['a', 2, 'hello', 3]\n",
    "\n",
    "print('a' in a_list)\n",
    "print(1 in a_list)\n",
    "print('hello' in a_list)\n",
    "print(3 in a_list)"
   ]
  },
  {
   "cell_type": "code",
   "execution_count": 16,
   "metadata": {},
   "outputs": [
    {
     "name": "stdout",
     "output_type": "stream",
     "text": [
      "True\n",
      "True\n",
      "False\n",
      "False\n"
     ]
    }
   ],
   "source": [
    "# in을 이용해 문자열에서 문자가 포함되어 있는지 확인 가능\n",
    "\n",
    "a_str = \"hello python\"\n",
    "print(\"python\" in a_str)\n",
    "print(\"on\" in a_str)\n",
    "\n",
    "# 이어지는 문자열만 확인 가능\n",
    "print(\"to\" in a_str)\n",
    "print(\"40\" in a_str)"
   ]
  }
 ],
 "metadata": {
  "kernelspec": {
   "display_name": "Python 3",
   "language": "python",
   "name": "python3"
  },
  "language_info": {
   "codemirror_mode": {
    "name": "ipython",
    "version": 3
   },
   "file_extension": ".py",
   "mimetype": "text/x-python",
   "name": "python",
   "nbconvert_exporter": "python",
   "pygments_lexer": "ipython3",
   "version": "3.11.1"
  },
  "orig_nbformat": 4,
  "vscode": {
   "interpreter": {
    "hash": "5238573367df39f7286bb46f9ff5f08f63a01a80960060ce41e3c79b190280fa"
   }
  }
 },
 "nbformat": 4,
 "nbformat_minor": 2
}
