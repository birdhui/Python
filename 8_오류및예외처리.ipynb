{
 "cells": [
  {
   "cell_type": "code",
   "execution_count": 1,
   "metadata": {},
   "outputs": [
    {
     "ename": "NameError",
     "evalue": "name 'dafsdf' is not defined",
     "output_type": "error",
     "traceback": [
      "\u001b[1;31m---------------------------------------------------------------------------\u001b[0m",
      "\u001b[1;31mNameError\u001b[0m                                 Traceback (most recent call last)",
      "\u001b[1;32m~\\AppData\\Local\\Temp\\ipykernel_18984\\947540803.py\u001b[0m in \u001b[0;36m<module>\u001b[1;34m\u001b[0m\n\u001b[1;32m----> 1\u001b[1;33m \u001b[0mdafsdf\u001b[0m\u001b[1;33m\u001b[0m\u001b[1;33m\u001b[0m\u001b[0m\n\u001b[0m",
      "\u001b[1;31mNameError\u001b[0m: name 'dafsdf' is not defined"
     ]
    }
   ],
   "source": [
    "# 파이썬은 '인터프리터'라고 하는 명령어 해석기를 통해\n",
    "# 한 줄 한 줄 기계어로 번역해 컴퓨터에게 전달한다.\n",
    "\n",
    "dafsdf"
   ]
  },
  {
   "cell_type": "code",
   "execution_count": 2,
   "metadata": {},
   "outputs": [
    {
     "name": "stdout",
     "output_type": "stream",
     "text": [
      "에러 발생\n"
     ]
    }
   ],
   "source": [
    "# 프로그램에서 에러가 발생할 만한 코드에 예외처리 하는 방법\n",
    "# try: except: 구문을 이용\n",
    "\n",
    "try:\n",
    "    adsjfaksjf\n",
    "except:\n",
    "    print(\"에러 발생\")"
   ]
  },
  {
   "cell_type": "code",
   "execution_count": 3,
   "metadata": {},
   "outputs": [
    {
     "name": "stdout",
     "output_type": "stream",
     "text": [
      "에러를 무시\n"
     ]
    }
   ],
   "source": [
    "try:\n",
    "    dajlfasf\n",
    "\n",
    "# pass 를 사용하면 아무것도 하지 않고 넘어감 (에러 발생을 무시)\n",
    "except:\n",
    "    pass\n",
    "print(\"에러를 무시\")"
   ]
  },
  {
   "cell_type": "code",
   "execution_count": 4,
   "metadata": {},
   "outputs": [
    {
     "name": "stdout",
     "output_type": "stream",
     "text": [
      "에러발생 원인 name 'dajfljdfa' is not defined\n"
     ]
    }
   ],
   "source": [
    "# Excetion as e : 'e'를 출력해 보면 에러의 원인이 출력된다.\n",
    "try:\n",
    "    dajfljdfa\n",
    "except Exception as e:\n",
    "    print(\"에러발생 원인\", e)"
   ]
  }
 ],
 "metadata": {
  "kernelspec": {
   "display_name": "base",
   "language": "python",
   "name": "python3"
  },
  "language_info": {
   "codemirror_mode": {
    "name": "ipython",
    "version": 3
   },
   "file_extension": ".py",
   "mimetype": "text/x-python",
   "name": "python",
   "nbconvert_exporter": "python",
   "pygments_lexer": "ipython3",
   "version": "3.9.13"
  },
  "orig_nbformat": 4,
  "vscode": {
   "interpreter": {
    "hash": "ad2bdc8ecc057115af97d19610ffacc2b4e99fae6737bb82f5d7fb13d2f2c186"
   }
  }
 },
 "nbformat": 4,
 "nbformat_minor": 2
}
