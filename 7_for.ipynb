{
 "cells": [
  {
   "cell_type": "code",
   "execution_count": 2,
   "metadata": {},
   "outputs": [
    {
     "name": "stdout",
     "output_type": "stream",
     "text": [
      "0\n",
      "1\n",
      "2\n",
      "3\n",
      "4\n",
      "5\n",
      "6\n"
     ]
    }
   ],
   "source": [
    "# for 반복문\n",
    "# for i in range(7) : 0부터 7-1까지 반복하라는 뜻\n",
    "\n",
    "for i in range(7):\n",
    "    print(i)"
   ]
  },
  {
   "cell_type": "code",
   "execution_count": 1,
   "metadata": {},
   "outputs": [
    {
     "name": "stdout",
     "output_type": "stream",
     "text": [
      "10\n",
      "9\n",
      "8\n",
      "7\n",
      "6\n"
     ]
    }
   ],
   "source": [
    "# range(i, i, i)\n",
    "# 시작인 5부터 끝인 10-1까지 반복해 i값 출력\n",
    "# i의 이름은 원하는 대로 변경 가능\n",
    "# range 함수의 3번째 인자에 -1을 입력하면 역순을 출력 가능\n",
    "\n",
    "for i in range(10, 5, -1):\n",
    "    print(i)"
   ]
  },
  {
   "cell_type": "code",
   "execution_count": 2,
   "metadata": {},
   "outputs": [
    {
     "name": "stdout",
     "output_type": "stream",
     "text": [
      "1\n",
      "2\n",
      "3\n",
      "4\n",
      "5\n",
      "안녕\n",
      "하세요\n"
     ]
    }
   ],
   "source": [
    "a_list = [1,2,3,4,5, \"안녕\", \"하세요\"]\n",
    "\n",
    "for i in a_list:\n",
    "    print(i)"
   ]
  },
  {
   "cell_type": "code",
   "execution_count": 3,
   "metadata": {},
   "outputs": [
    {
     "name": "stdout",
     "output_type": "stream",
     "text": [
      "h\n",
      "e\n",
      "l\n",
      "l\n",
      "o\n",
      " \n",
      "p\n",
      "y\n",
      "t\n",
      "h\n",
      "o\n",
      "n\n"
     ]
    }
   ],
   "source": [
    "a_str = \"hello python\"\n",
    "\n",
    "for i in a_str:\n",
    "    print(i)"
   ]
  },
  {
   "cell_type": "code",
   "execution_count": 12,
   "metadata": {},
   "outputs": [
    {
     "name": "stdout",
     "output_type": "stream",
     "text": [
      "i= 0 k= 홍길동\n",
      "i= 1 k= 장다인\n",
      "i= 2 k= 김철수\n"
     ]
    }
   ],
   "source": [
    "# name_list : i => 리스트의 위치 / k => 리스트의 값\n",
    "name_list = [\"홍길동\", \"장다인\", \"김철수\"]\n",
    "age_list = [500, 5, 12]\n",
    "\n",
    "# end=\" \"에 값을 넣어주면 넣은 문자열로 종료문자가 들어감\n",
    "# \"\"을 넣어주지 않으면 기본적으로 종료문자는 줄바꿈이 들어감\n",
    "for i, k in enumerate(name_list):\n",
    "    print(\"i=\", i, end=\" \")\n",
    "    print(\"k=\", k)"
   ]
  },
  {
   "cell_type": "code",
   "execution_count": 13,
   "metadata": {},
   "outputs": [
    {
     "name": "stdout",
     "output_type": "stream",
     "text": [
      "홍길동 500\n",
      "장다인 5\n",
      "김철수 12\n",
      "홍길동 500\n",
      "장다인 5\n",
      "김철수 12\n"
     ]
    }
   ],
   "source": [
    "name_list = [\"홍길동\", \"장다인\", \"김철수\"]\n",
    "age_list = [500, 5, 12]\n",
    "\n",
    "# enumerate\n",
    "# : 몇 번째 반복문인지 확인할 때 사용\n",
    "for i, k in enumerate(name_list):\n",
    "    print(k, end=' ')\n",
    "    print(age_list[i])\n",
    "\n",
    "for i, k in enumerate(name_list):\n",
    "    print(name_list[i], end=' ')\n",
    "    print(age_list[i])"
   ]
  },
  {
   "cell_type": "code",
   "execution_count": 1,
   "metadata": {},
   "outputs": [
    {
     "name": "stdout",
     "output_type": "stream",
     "text": [
      "홍길동 500\n",
      "장다인 5\n",
      "김철수 12\n"
     ]
    }
   ],
   "source": [
    "# 튜플의 값은 변하지 않는다.\n",
    "name_list = [\"홍길동\", \"장다인\", \"김철수\"]\n",
    "age_list = [500, 5, 12]\n",
    "\n",
    "\n",
    "for i in range(len(name_list)):\n",
    "    print(name_list[i], end=' ')\n",
    "    print(age_list[i])"
   ]
  },
  {
   "cell_type": "code",
   "execution_count": 4,
   "metadata": {},
   "outputs": [
    {
     "name": "stdout",
     "output_type": "stream",
     "text": [
      "[0, 1, 2, 3, 4, 5, 6, 7, 8, 9]\n",
      "[0]\n",
      "[0, 1]\n",
      "[0, 1, 2]\n",
      "[0, 1, 2, 3]\n",
      "[0, 1, 2, 3, 4]\n",
      "[0, 1, 2, 3, 4, 5]\n",
      "[0, 1, 2, 3, 4, 5, 6]\n",
      "[0, 1, 2, 3, 4, 5, 6, 7]\n",
      "[0, 1, 2, 3, 4, 5, 6, 7, 8]\n",
      "[0, 1, 2, 3, 4, 5, 6, 7, 8, 9]\n"
     ]
    }
   ],
   "source": [
    "test_list = [i for i in range(10)]\n",
    "print(test_list)\n",
    "\n",
    "test2_list = []\n",
    "for i in range(10):\n",
    "    # .append : 리스트에 값을 넣을 때 사용 (순차적으로 값이 들어감)\n",
    "    test2_list.append(i)\n",
    "    print(test2_list)"
   ]
  },
  {
   "cell_type": "code",
   "execution_count": 7,
   "metadata": {},
   "outputs": [
    {
     "name": "stdout",
     "output_type": "stream",
     "text": [
      "[0, 5, 10, 15, 20, 25, 30, 35, 40, 45]\n",
      "[0, 0, 0, 0, 0, 0, 0, 0, 0, 0]\n"
     ]
    }
   ],
   "source": [
    "test_list = [ i * 5 for i in range(10)]\n",
    "print(test_list)\n",
    "\n",
    "test2_list = [ 0 for i in range(10)]\n",
    "print(test2_list)"
   ]
  }
 ],
 "metadata": {
  "kernelspec": {
   "display_name": "base",
   "language": "python",
   "name": "python3"
  },
  "language_info": {
   "codemirror_mode": {
    "name": "ipython",
    "version": 3
   },
   "file_extension": ".py",
   "mimetype": "text/x-python",
   "name": "python",
   "nbconvert_exporter": "python",
   "pygments_lexer": "ipython3",
   "version": "3.9.13 (main, Aug 25 2022, 23:51:50) [MSC v.1916 64 bit (AMD64)]"
  },
  "orig_nbformat": 4,
  "vscode": {
   "interpreter": {
    "hash": "ad2bdc8ecc057115af97d19610ffacc2b4e99fae6737bb82f5d7fb13d2f2c186"
   }
  }
 },
 "nbformat": 4,
 "nbformat_minor": 2
}
