{
 "cells": [
  {
   "cell_type": "code",
   "execution_count": 1,
   "metadata": {},
   "outputs": [
    {
     "name": "stdout",
     "output_type": "stream",
     "text": [
      "안녕하세요\n",
      "파이썬 기초문법입니다.\n"
     ]
    }
   ],
   "source": [
    "# 파이썬에서 함수를 만들기 위해서는 [def 이름: ]을 이용\n",
    "\n",
    "def func():\n",
    "    print(\"안녕하세요\")\n",
    "    print(\"파이썬 기초문법입니다.\")\n",
    "func()"
   ]
  },
  {
   "cell_type": "code",
   "execution_count": 2,
   "metadata": {},
   "outputs": [
    {
     "name": "stdout",
     "output_type": "stream",
     "text": [
      "안녕하세요\n",
      "파이썬 기초문법입니다.\n",
      "안녕하세요\n",
      "파이썬 기초문법입니다.\n",
      "안녕하세요\n",
      "파이썬 기초문법입니다.\n"
     ]
    }
   ],
   "source": [
    "def func():\n",
    "    print(\"안녕하세요\")\n",
    "    print(\"파이썬 기초문법입니다.\")\n",
    "for i in range(3):\n",
    "    func()"
   ]
  },
  {
   "cell_type": "code",
   "execution_count": 6,
   "metadata": {},
   "outputs": [
    {
     "name": "stdout",
     "output_type": "stream",
     "text": [
      "3\n"
     ]
    }
   ],
   "source": [
    "# funcAdd의 이름으로 함수를 만들고 a, b 값을 입력받음\n",
    "# return을 이용해 a+b의 값을 반환\n",
    "\n",
    "def funcAdd(a,b):\n",
    "    return a + b\n",
    "\n",
    "# 1,2의 값을 더해 값을 반환하고 => 반환된 값을 c에 저장\n",
    "c = funcAdd(1,2)\n",
    "print(c)"
   ]
  },
  {
   "cell_type": "code",
   "execution_count": 8,
   "metadata": {},
   "outputs": [
    {
     "name": "stdout",
     "output_type": "stream",
     "text": [
      "5\n"
     ]
    }
   ],
   "source": [
    "def funcMux(a,b):\n",
    "    mux = a + b\n",
    "    return mux\n",
    "c = funcMux(2,3)\n",
    "print(c)"
   ]
  },
  {
   "cell_type": "code",
   "execution_count": 9,
   "metadata": {},
   "outputs": [
    {
     "name": "stdout",
     "output_type": "stream",
     "text": [
      "6\n"
     ]
    }
   ],
   "source": [
    "def funcMux(a,b):\n",
    "    mux = a * b\n",
    "    return mux\n",
    "c = funcMux(2,3)\n",
    "print(c)"
   ]
  },
  {
   "cell_type": "code",
   "execution_count": null,
   "metadata": {},
   "outputs": [],
   "source": [
    "# 파이썬의 함수는 여러 개의 값을 반환할 수 있다.\n",
    "\n",
    "def funcAddMux(a,b):\n",
    "    add = a + b\n",
    "    mux = a * b\n",
    "    return add, mux\n",
    "a,b = funcAddMux(2,3)\n",
    "print(a,b)"
   ]
  },
  {
   "cell_type": "code",
   "execution_count": 10,
   "metadata": {},
   "outputs": [
    {
     "name": "stdout",
     "output_type": "stream",
     "text": [
      "3\n"
     ]
    }
   ],
   "source": [
    "# 파이썬의 함수는 여러 개의 값을 반환할 수 있다.\n",
    "\n",
    "def funcAddMux(a,b):\n",
    "    add = a + b\n",
    "    mux = a * b\n",
    "    return add, mux\n",
    "\n",
    "# 두 개의 값을 반환하지만 '_'라고 작성하면 첫 번째 값을 받지 않겠다는 의미\n",
    "# => 그래서 곱한 값만 출력\n",
    "_,b = funcAddMux(1,3)\n",
    "print(b)"
   ]
  }
 ],
 "metadata": {
  "kernelspec": {
   "display_name": "base",
   "language": "python",
   "name": "python3"
  },
  "language_info": {
   "codemirror_mode": {
    "name": "ipython",
    "version": 3
   },
   "file_extension": ".py",
   "mimetype": "text/x-python",
   "name": "python",
   "nbconvert_exporter": "python",
   "pygments_lexer": "ipython3",
   "version": "3.9.13"
  },
  "orig_nbformat": 4,
  "vscode": {
   "interpreter": {
    "hash": "ad2bdc8ecc057115af97d19610ffacc2b4e99fae6737bb82f5d7fb13d2f2c186"
   }
  }
 },
 "nbformat": 4,
 "nbformat_minor": 2
}
