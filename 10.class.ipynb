{
 "cells": [
  {
   "cell_type": "code",
   "execution_count": 4,
   "metadata": {},
   "outputs": [
    {
     "name": "stdout",
     "output_type": "stream",
     "text": [
      "hello\n",
      "hi\n",
      "hello\n",
      "hi\n"
     ]
    }
   ],
   "source": [
    "# 클래스란 프로그램의 틀\n",
    "# : 틀을 만들고 그 틀대로 찍어 객체를 만들 수 있다.\n",
    "\n",
    "# 클래스 안에는 hello함수와 hi함수가 있다.\n",
    "# 클래스 안의 함수는 메서드라고 부른다.\n",
    "\n",
    "class Greet():\n",
    "    def hello(self):\n",
    "        print(\"hello\")\n",
    "    def hi(self):\n",
    "        print(\"hi\")\n",
    "\n",
    "human1 = Greet()\n",
    "human2 = Greet()\n",
    "human1.hello()  #human1 객체를 이용해 hello 메서드(함수)를 실행\n",
    "human1.hi()     #human1 객체를 이용해 hi 메서드(함수)를 실행\n",
    "human2.hello()\n",
    "human2.hi()"
   ]
  },
  {
   "cell_type": "code",
   "execution_count": null,
   "metadata": {},
   "outputs": [],
   "source": [
    "class Student():\n",
    "    def __init__(self,name,age,like):\n",
    "        self.name = name\n",
    "        self.age = age\n",
    "        self.like = like\n",
    "    def studentInfo(self):\n",
    "        print(f\"이름:{self.name}, 나이:{self.age}, 좋아하는 것:{self.like}\")\n",
    "김철수 = Student(\"김철수\", 17, \"축구\")\n",
    "장다인 = Student(\"장다인\", 5, \"헬로카봇\")\n",
    "김철수.studentInfo()\n",
    "장다인.studentInfo()"
   ]
  },
  {
   "cell_type": "code",
   "execution_count": 17,
   "metadata": {},
   "outputs": [
    {
     "name": "stdout",
     "output_type": "stream",
     "text": [
      "이름:박상천, 나이:24, 좋아하는 사람:세희를 짱 사랑한다. ㅎㅎ\n"
     ]
    }
   ],
   "source": [
    "class Love():\n",
    "    def __init__(self,name,age,like):\n",
    "        self.name = name\n",
    "        self.age = age\n",
    "        self.like = like\n",
    "    def LoveInfo(self):\n",
    "        print(f\"이름:{self.name}, 나이:{self.age}, 좋아하는 사람:{self.like}\")\n",
    "박상천 = Love(f\"박상천\", 24, \"세희를 짱 사랑한다. ㅎㅎ 근데 여부 게임 재밌져?\")\n",
    "박상천.LoveInfo()"
   ]
  }
 ],
 "metadata": {
  "kernelspec": {
   "display_name": "base",
   "language": "python",
   "name": "python3"
  },
  "language_info": {
   "codemirror_mode": {
    "name": "ipython",
    "version": 3
   },
   "file_extension": ".py",
   "mimetype": "text/x-python",
   "name": "python",
   "nbconvert_exporter": "python",
   "pygments_lexer": "ipython3",
   "version": "3.9.13"
  },
  "orig_nbformat": 4,
  "vscode": {
   "interpreter": {
    "hash": "ad2bdc8ecc057115af97d19610ffacc2b4e99fae6737bb82f5d7fb13d2f2c186"
   }
  }
 },
 "nbformat": 4,
 "nbformat_minor": 2
}
